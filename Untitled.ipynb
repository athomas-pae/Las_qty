{
 "cells": [
  {
   "cell_type": "code",
   "execution_count": 1,
   "id": "f0307e6a-1150-44fd-8e40-7d2e9e2387a1",
   "metadata": {},
   "outputs": [
    {
     "name": "stdout",
     "output_type": "stream",
     "text": [
      "Archivo copiado exitosamente a: Y:/Workover/STAFF/Wireline/Perfil_verificado\\test.las\n",
      "2024-06-27 08:16:57,212 - DEBUG - Creando directorio: Y:/Workover/STAFF/Wireline/Perfil_verificado\n",
      "2024-06-27 08:16:57,224 - DEBUG - Copiando archivo desde test.las a Y:/Workover/STAFF/Wireline/Perfil_verificado\\test.las\n",
      "2024-06-27 08:16:57,275 - DEBUG - Archivo copiado exitosamente a: Y:/Workover/STAFF/Wireline/Perfil_verificado\\test.las\n",
      "\n"
     ]
    }
   ],
   "source": [
    "import os\n",
    "import shutil\n",
    "import logging\n",
    "\n",
    "# Configuración del registro\n",
    "logging.basicConfig(filename='upload_test.log', level=logging.DEBUG, format='%(asctime)s - %(levelname)s - %(message)s')\n",
    "\n",
    "def save_to_shared_drive(file_path, destination_directory):\n",
    "    \"\"\"Intenta copiar un archivo a un directorio compartido.\"\"\"\n",
    "    try:\n",
    "        # Crear directorio si no existe\n",
    "        logging.debug(f\"Creando directorio: {destination_directory}\")\n",
    "        os.makedirs(destination_directory, exist_ok=True)\n",
    "\n",
    "        # Nombre del archivo\n",
    "        file_name = os.path.basename(file_path)\n",
    "        destination_path = os.path.join(destination_directory, file_name)\n",
    "        \n",
    "        logging.debug(f\"Copiando archivo desde {file_path} a {destination_path}\")\n",
    "        \n",
    "        # Copiar el archivo\n",
    "        shutil.copy2(file_path, destination_path)\n",
    "        \n",
    "        logging.debug(f\"Archivo copiado exitosamente a: {destination_path}\")\n",
    "        return True, destination_path\n",
    "    except Exception as e:\n",
    "        logging.error(f\"Error durante la copia del archivo: {e}\")\n",
    "        return False, str(e)\n",
    "\n",
    "# Ruta del archivo de prueba y directorio de destino\n",
    "test_file_path = \"test.las\"  # Reemplaza con la ruta de tu archivo de prueba\n",
    "shared_drive_directory = \"Y:/Workover/STAFF/Wireline/Perfil_verificado\"  # Reemplaza con la ruta del disco compartido\n",
    "\n",
    "# Crear un archivo de prueba\n",
    "with open(test_file_path, \"w\") as f:\n",
    "    f.write(\"Este es un archivo de prueba para la carga en el disco compartido.\")\n",
    "\n",
    "# Intentar copiar el archivo al disco compartido\n",
    "success, message = save_to_shared_drive(test_file_path, shared_drive_directory)\n",
    "\n",
    "# Mostrar resultado\n",
    "if success:\n",
    "    print(f\"Archivo copiado exitosamente a: {message}\")\n",
    "else:\n",
    "    print(f\"Error al copiar el archivo: {message}\")\n",
    "\n",
    "# Verificar los logs\n",
    "with open('upload_test.log', 'r') as log_file:\n",
    "\n",
    "    logs = log_file.read()\n",
    "    print(logs)\n"
   ]
  },
  {
   "cell_type": "code",
   "execution_count": null,
   "id": "895415a1-9095-4351-b595-2daf2bd9dc6c",
   "metadata": {},
   "outputs": [],
   "source": []
  }
 ],
 "metadata": {
  "kernelspec": {
   "display_name": "Python 3 (ipykernel)",
   "language": "python",
   "name": "python3"
  },
  "language_info": {
   "codemirror_mode": {
    "name": "ipython",
    "version": 3
   },
   "file_extension": ".py",
   "mimetype": "text/x-python",
   "name": "python",
   "nbconvert_exporter": "python",
   "pygments_lexer": "ipython3",
   "version": "3.12.3"
  }
 },
 "nbformat": 4,
 "nbformat_minor": 5
}
